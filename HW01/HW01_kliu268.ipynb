{
 "cells": [
  {
   "cell_type": "markdown",
   "id": "25842d74",
   "metadata": {},
   "source": [
    "# HW1: Practice with Python, hard-margin SVM, and linear regression"
   ]
  },
  {
   "cell_type": "markdown",
   "id": "6261349e",
   "metadata": {},
   "source": [
    "## Ramona Liu NetID: kliu268"
   ]
  },
  {
   "cell_type": "markdown",
   "id": "f7e457d2",
   "metadata": {},
   "source": [
    "Hello Students:\n",
    "\n",
    "- Start by downloading HW1.ipynb from this folder. Then develop it into your solution.\n",
    "- Write code where you see \"... your code here ...\" below.\n",
    "  (You are welcome to use more than one cell.)\n",
    "- I've included the output from my solution in HW1.html so you can check your\n",
    "  work. Your output should match or be close to mine. Use 3 significant\n",
    "  figures for floats. e.g. We can print 3 figures for 𝜋/1000 as\n",
    "  print(f'{np.pi/1000:.3}'). The pattern is print(f'{x:.precision}'),\n",
    "  where x is the value to print and precision is the number of figures.\n",
    "- If you have questions, please ask them in class, office hours, or piazza. Our TA\n",
    "  and I are very happy to help with the programming (provided you start early\n",
    "  enough, and provided we are not helping so much that we undermine your learning).\n",
    "- Please clean up your code:\n",
    "  - Comment out unnecessary code that is useful for orienting you, like printing the data set.\n",
    "  - Label your output, like writing 'weight=20.1' or 'The weight is 20.1' rather than just '20.1'.\n",
    "  - Simplify your code if you can.\n",
    "- When you are done, run these Notebook commands:\n",
    "  - Shift-L (once, so that line numbers are visible)\n",
    "  - Kernel > Restart and Run All (run all cells from scratch)\n",
    "  - Esc S (save)\n",
    "  - File > Download as > HTML\n",
    "- Turn in:\n",
    "  - HW01.ipynb to Canvas's HW01.ipynb assignment\n",
    "  - HW01.html to Canvas's HW01.html assignment\n",
    "  - As a check, download your files from Canvas to a new 'junk' folder. Try 'Kernel > Restart\n",
    "  and Run All' on the '.ipynb' file to make sure it works. Glance through the '.html' file.\n",
    "- Turn in partial solutions to Canvas before the deadline. e.g. Turn in part 1,\n",
    "  then parts 1 and 2a, then your whole solution. That way we can award partial credit\n",
    "  even if you miss the deadline. We will grade your last submission before the deadline."
   ]
  },
  {
   "cell_type": "code",
   "execution_count": 1,
   "id": "f1b234d4",
   "metadata": {},
   "outputs": [],
   "source": [
    "import numpy as np\n",
    "import pandas as pd\n",
    "import matplotlib.pyplot as plt\n",
    "\n",
    "from sklearn import svm, linear_model"
   ]
  },
  {
   "cell_type": "markdown",
   "id": "d991636c",
   "metadata": {},
   "source": [
    "# 1. Use a hard-margin SVM\n",
    " to classify cars as having automatic or manual transmissions.\n",
    "- Read [http://www.stat.wisc.edu/~jgillett/451/01/mtcars30.csv](http://www.stat.wisc.edu/~jgillett/451/01/mtcars30.csv) into a DataFrame. (This is the mtcars data frame from R with two of its rows removed to get linearly separable data.)\n",
    "- Make a 30x2 numpy array X from the mpg (miles per gallon) and wt (weight in 1000s of pounds) columns. Make an array y from the am column (where 0=automatic\n",
    "  or 1=manual transmission).\n",
    "- Train an SVM using kernel='linear' and C=1000. Print its coefficients and intercept.\n",
    "- Report the training accuracy. (It's given by clf.score(X, y).)\n",
    "- Predict the transmission for a car weighing 4000 pounds (wt=4) that gets 20 mpg.\n",
    "- Use five plt.plot() calls to make a figure with wt on its x-axis and mpg on its y-axis including:\n",
    "  - the automatic transmission cars in red\n",
    "  - the manual transmission cars in blue\n",
    "  - the decision boundary (the center line of the road)\n",
    "  - the lower margin boundary (the left side of the road)\n",
    "  - the upper margin boundary (the right side of the road)\n",
    "  - a reasonable title, axis labels, and legend"
   ]
  },
  {
   "cell_type": "code",
   "execution_count": 2,
   "id": "f4e137dd",
   "metadata": {},
   "outputs": [
    {
     "name": "stdout",
     "output_type": "stream",
     "text": [
      "clf.coef_=[[-0.30922192 -8.24431115]]\n",
      "clf.intercept_=[32.01974189]\n"
     ]
    },
    {
     "data": {
      "text/plain": [
       "array([0])"
      ]
     },
     "execution_count": 2,
     "metadata": {},
     "output_type": "execute_result"
    }
   ],
   "source": [
    "cars = pd.read_csv(\"mtcars30.csv\")\n",
    "X = np.array(cars[['mpg','wt']])\n",
    "y = np.array(cars[['am']]).ravel()\n",
    "clf = svm.SVC(kernel=\"linear\", C=1000)\n",
    "clf.fit(X, y)\n",
    "print(f'clf.coef_={clf.coef_}')\n",
    "print(f'clf.intercept_={clf.intercept_}')\n",
    "#Report the training accuracy. \n",
    "clf.score(X, y)\n",
    "# Predict the transmission for a car weighing 4000 pounds (wt=4) that gets 20 mpg\n",
    "sample = np.array([[20, 4]])\n",
    "clf.predict(sample)"
   ]
  },
  {
   "cell_type": "markdown",
   "id": "5671d72a",
   "metadata": {},
   "source": [
    "Thus, we predict that it is an automatic transmission car."
   ]
  },
  {
   "cell_type": "code",
   "execution_count": 3,
   "id": "26856d24",
   "metadata": {},
   "outputs": [
    {
     "data": {
      "image/png": "[encoded data removed]",
      "text/plain": [
       "<Figure size 432x288 with 1 Axes>"
      ]
     },
     "metadata": {
      "needs_background": "light"
     },
     "output_type": "display_data"
    }
   ],
   "source": [
    "plt.plot(X[y == 0, 0], X[y == 0, 1], '.', color='red', label='automatic transmission')\n",
    "plt.plot(X[y == 1, 0], X[y == 1, 1], '.', color='blue', label='manual transmission')\n",
    "x1 = X[:, 0]\n",
    "x2 = -(clf.coef_[0][0] * x1 + clf.intercept_) / clf.coef_[0][1]\n",
    "plt.plot(x1, x2, label=r'decision boundary $\\mathbf{wx} + b = 0$')\n",
    "plt.xlabel('mpg (mile per gallon)')\n",
    "plt.ylabel('wt (weight in 1000lbs)')\n",
    "plt.legend()\n",
    "plt.title('SVM model for car transmission type based on mpg & wt')\n",
    "plt.show(block=False)"
   ]
  },
  {
   "cell_type": "markdown",
   "id": "6bffdb35",
   "metadata": {},
   "source": [
    "# 2. Make three linear regression models.\n"
   ]
  },
  {
   "cell_type": "markdown",
   "id": "a0ab39c6",
   "metadata": {},
   "source": [
    "## 2a: Make a simple regression model by hand.\n",
    "Use the matrix formula $w = (X^T X)^{-1} X^T y$ we developed in class to fit these three points:\n",
    "(0, 5), (2, 1), (4, 3). (Use linear_model.linearRegression(), if you wish, to check your work.)"
   ]
  },
  {
   "cell_type": "markdown",
   "id": "d991222",
   "metadata": {},
   "source": [
    "$x$ = $\\begin{bmatrix} 1 & 0 \\\\ 1 & 2 \\\\ 1 & 4 \\end{bmatrix}$\n",
    "$x^T$ = $\\begin{bmatrix} 1 & 1 & 1 \\\\ 0 & 2 & 4 \\end{bmatrix}$\n",
    "$y$ = $\\begin{bmatrix} 5 \\\\ 1 \\\\ 3 \\end{bmatrix}$\\\n",
    "$x^T$*$x$ = $\\begin{bmatrix}  3 & 6 \\\\ 6 & 20 \\end{bmatrix}$\n",
    "$x^T$*$y$ = $\\begin{bmatrix}  9 \\\\ 14 \\end{bmatrix}$\\\n",
    "($x^T$*$x$)^$(-1)$ = $\\begin{bmatrix} 5/6 & -1/4 \\\\ -1/4 & 1/8 \\end{bmatrix}$\\\n",
    "($x^T$*$x$)^$(-1)$*$x^T$*$y$ = $\\begin{bmatrix}  4 \\\\ -1/2 \\end{bmatrix}$\\\n",
    "Thus, $ y = (-1/2)x+4 $"
   ]
  },
  {
   "cell_type": "markdown",
   "id": "8df4591c",
   "metadata": {},
   "source": [
    "## 2b: Make a simple linear regression model from real data.\n",
    "Estimate the average daily trading volume of a Dow Jones Industrial Average stock from its market capitalization. That is, use $y = $ AvgVol vs. $x =$ MarketCap.\n",
    "- Read [http://www.stat.wisc.edu/~jgillett/451/data/DJIA.csv](http://www.stat.wisc.edu/~jgillett/451/data/DJIA.csv) into a DataFrame.\n",
    "- Find the model. Print its equation.\n",
    "- Print its $R^2$ value (the proportion of variability in $y$ accounted for by $x$ via the linear model, given by model.score(X, y)).\n",
    "- Make a plot of the data and model line.\n",
    "- Use the model to predict the volume for a company with market capitalization of 0.25e12 (a quarter-trillion dollars); add this as a red point on your plot.\n",
    "- Say what happens to Volume as Market Capitalization increases. (Use a Markdown cell.)"
   ]
  },
  {
   "cell_type": "code",
   "execution_count": 4,
   "id": "bbcae099",
   "metadata": {},
   "outputs": [
    {
     "name": "stdout",
     "output_type": "stream",
     "text": [
      "intercept=3408894.8726414144, slope=2.6758424874802994e-05, R^2 = 0.704564022997879\n"
     ]
    },
    {
     "data": {
      "image/png": "[encoded data removed]",
      "text/plain": [
       "<Figure size 432x288 with 1 Axes>"
      ]
     },
     "metadata": {
      "needs_background": "light"
     },
     "output_type": "display_data"
    }
   ],
   "source": [
    "df = pd.read_csv(\"http://www.stat.wisc.edu/~jgillett/451/data/DJIA.csv\")\n",
    "x = df['MarketCap'].to_numpy() # we need vector for plotting\n",
    "X = x.copy()\n",
    "nrows = X.shape[0]\n",
    "X.shape = (nrows, 1) # we need array for model.fit()\n",
    "y = df['AvgVol'].to_numpy()\n",
    "model = linear_model.LinearRegression()\n",
    "model.fit(X, y)\n",
    "b = model.intercept_\n",
    "w = model.coef_[0]\n",
    "score = model.score(X, y)\n",
    "print(f'intercept={b}, slope={w}, R^2 = {score}')\n",
    "y_hat = model.predict(X)\n",
    "plt.plot(x, y, '.', color='black', label='MarketCap (data)')\n",
    "plt.xlabel('Market Capitalization')\n",
    "plt.ylabel('Average Volume')\n",
    "plt.plot(x, y_hat, color='black',\n",
    "         label=f'$\\\\hat{{y}}=${round(b, 2)} + ({round(w, 2)})$x$')\n",
    "plt.plot([x, x], [y, y_hat], # [x1, x2], [y1, y2]\n",
    "         color='black', linewidth=.5, label=None)\n",
    "predicted_value=model.predict(np.array([[0.25e12]]))\n",
    "plt.plot([0.25e12], [predicted_value], marker='o', color=\"red\")\n",
    "#plt.plot(x, y_hat, '.', color='red', label='fitted values') #the red dots \n",
    "plt.legend()\n",
    "plt.show(block=False)"
   ]
  },
  {
   "cell_type": "markdown",
   "id": "983ff726",
   "metadata": {},
   "source": [
    "## 2c Make a multiple regression model.\n",
    "Estimate the same volume from both market capitalization and price. That is, use $y =$ AvgVol vs. $x_1 =$ MarketCap and $x_2 =$ Price.\n",
    "- Find the model.\n",
    "- Print its equation.\n",
    "- Print its $R^2$ value.\n",
    "- Say what happens to Volume as Market Capitalization increases and what happens to Volume as Price increases. (Use a Markdown cell.)"
   ]
  },
  {
   "cell_type": "code",
   "execution_count": 5,
   "id": "b7c73d9a",
   "metadata": {},
   "outputs": [
    {
     "name": "stdout",
     "output_type": "stream",
     "text": [
      "AvgVol = 1.44e+07 + (2.89e-05)MarketCap + (-6.69e+04)Price\n",
      "R^2 is 0.823\n"
     ]
    }
   ],
   "source": [
    "X = df[['MarketCap', 'Price']].to_numpy()\n",
    "y = df['AvgVol'].to_numpy()\n",
    "model.fit(X, y)\n",
    "print(f'AvgVol = {model.intercept_:.3} + ({model.coef_[0]:.3})MarketCap + ({model.coef_[1]:.3})Price')\n",
    "print(f'R^2 is {model.score(X, y):.3}') # coefficient of determination"
   ]
  },
  {
   "cell_type": "markdown",
   "id": "59db139b",
   "metadata": {},
   "source": [
    "While keeping price constant, the average volume increases 2.89e-05 as Market Capitalization increases one unit.\\\n",
    "While keeping Market Capitalization constant, the average volume decreases -6.69e+04 as price increases one unit."
   ]
  }
 ],
 "metadata": {
  "celltoolbar": "Tags",
  "kernelspec": {
   "display_name": "Python 3 (ipykernel)",
   "language": "python",
   "name": "python3"
  },
  "language_info": {
   "codemirror_mode": {
    "name": "ipython",
    "version": 3
   },
   "file_extension": ".py",
   "mimetype": "text/x-python",
   "name": "python",
   "nbconvert_exporter": "python",
   "pygments_lexer": "ipython3",
   "version": "3.9.12"
  }
 },
 "nbformat": 4,
 "nbformat_minor": 5
}
