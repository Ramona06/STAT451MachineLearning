{
 "cells": [
  {
   "cell_type": "markdown",
   "id": "8163daf4",
   "metadata": {},
   "source": [
    "# HW02: Practice with logistic regression and decision tree\n",
    "\n",
    "[Please put your name and NetID here.]"
   ]
  },
  {
   "cell_type": "markdown",
   "id": "4fdedd9b",
   "metadata": {},
   "source": [
    "## Hello Students:\n",
    "\n",
    "- Start by downloading HW02.ipynb from this folder. Then develop it into your solution.\n",
    "- Write code where you see \"... your code here ...\" below.\n",
    "  (You are welcome to use more than one cell.)\n",
    "- If you have questions, please ask them in class, office hours, or piazza. Our TA\n",
    "  and I are very happy to help with the programming (provided you start early\n",
    "  enough, and provided we are not helping so much that we undermine your learning).\n",
    "- When you are done, run these Notebook commands:\n",
    "  - Shift-L (once, so that line numbers are visible)\n",
    "  - Kernel > Restart and Run All (run all cells from scratch)\n",
    "  - Esc S (save)\n",
    "  - File > Download as > HTML\n",
    "- Turn in:\n",
    "  - HW02.ipynb to Canvas's HW02.ipynb assignment\n",
    "  - HW02.html to Canvas's HW02.html assignment\n",
    "  - As a check, download your files from Canvas to a new 'junk' folder. Try 'Kernel > Restart\n",
    "  and Run All' on the '.ipynb' file to make sure it works. Glance through the '.html' file.\n",
    "- Turn in partial solutions to Canvas before the deadline. e.g. Turn in part 1,\n",
    "  then parts 1 and 2, then your whole solution. That way we can award partial credit\n",
    "  even if you miss the deadline. We will grade your last submission before the deadline."
   ]
  },
  {
   "cell_type": "code",
   "execution_count": 1,
   "id": "f6a87448",
   "metadata": {},
   "outputs": [],
   "source": [
    "# ... your code here ... (import statements)"
   ]
  },
  {
   "cell_type": "markdown",
   "id": "f90946b9",
   "metadata": {},
   "source": [
    "# 1. Logistic regression"
   ]
  },
  {
   "cell_type": "markdown",
   "id": "0c5d8fa5",
   "metadata": {},
   "source": [
    "# 1a. Make a logistic regression model\n",
    "relating the probability an iris has Species='virginica' to its 'Petal.Length'\n",
    "and classifying irises as 'virginica' or not 'virginica' (i.e. 'versicolor').\n",
    "- Read [http://www.stat.wisc.edu/~jgillett/451/data/iris.csv](http://www.stat.wisc.edu/~jgillett/451/data/iris.csv) into a DataFrame.\n",
    "- Make a second data frame that excludes the 'setosa' rows (leaving the 'virginica' and 'versicolor' rows) and includes only the Petal.Length and Species columns.\n",
    "- Train the model using $X=$ petal length and $y=$ whether the Species is 'virginica'.\n",
    "  (I used \"y = (df['Species'] == 'virginica').to_numpy().astype(int)\",\n",
    "  which sets y to zeros and ones.)\n",
    "- Report its accuracy on the training data.\n",
    "- Report the estimated P(Species=virginica | Petal.Length=5).\n",
    "- Report the predicited Species for Petal.Length=5.\n",
    "- Make a plot showing:\n",
    "  - the data points\n",
    "  - the estimated logistic curve\n",
    "  - and what I have called the \"sample proportion\" of y == 1 at each unique Petal.Length value\n",
    "  - a legend and title and other labels necessary to make the plot easy to read"
   ]
  },
  {
   "cell_type": "code",
   "execution_count": 2,
   "id": "248a1006",
   "metadata": {},
   "outputs": [],
   "source": [
    "import numpy as np\n",
    "import pandas as pd\n",
    "import matplotlib.pyplot as plt\n",
    "from sklearn import linear_model"
   ]
  },
  {
   "cell_type": "code",
   "execution_count": 3,
   "id": "b1586a81",
   "metadata": {},
   "outputs": [
    {
     "data": {
      "text/html": [
       "<div>\n",
       "<style scoped>\n",
       "    .dataframe tbody tr th:only-of-type {\n",
       "        vertical-align: middle;\n",
       "    }\n",
       "\n",
       "    .dataframe tbody tr th {\n",
       "        vertical-align: top;\n",
       "    }\n",
       "\n",
       "    .dataframe thead th {\n",
       "        text-align: right;\n",
       "    }\n",
       "</style>\n",
       "<table border=\"1\" class=\"dataframe\">\n",
       "  <thead>\n",
       "    <tr style=\"text-align: right;\">\n",
       "      <th></th>\n",
       "      <th>Petal.Length</th>\n",
       "      <th>Species</th>\n",
       "    </tr>\n",
       "  </thead>\n",
       "  <tbody>\n",
       "    <tr>\n",
       "      <th>50</th>\n",
       "      <td>4.7</td>\n",
       "      <td>versicolor</td>\n",
       "    </tr>\n",
       "    <tr>\n",
       "      <th>51</th>\n",
       "      <td>4.5</td>\n",
       "      <td>versicolor</td>\n",
       "    </tr>\n",
       "    <tr>\n",
       "      <th>52</th>\n",
       "      <td>4.9</td>\n",
       "      <td>versicolor</td>\n",
       "    </tr>\n",
       "    <tr>\n",
       "      <th>53</th>\n",
       "      <td>4.0</td>\n",
       "      <td>versicolor</td>\n",
       "    </tr>\n",
       "    <tr>\n",
       "      <th>54</th>\n",
       "      <td>4.6</td>\n",
       "      <td>versicolor</td>\n",
       "    </tr>\n",
       "    <tr>\n",
       "      <th>...</th>\n",
       "      <td>...</td>\n",
       "      <td>...</td>\n",
       "    </tr>\n",
       "    <tr>\n",
       "      <th>145</th>\n",
       "      <td>5.2</td>\n",
       "      <td>virginica</td>\n",
       "    </tr>\n",
       "    <tr>\n",
       "      <th>146</th>\n",
       "      <td>5.0</td>\n",
       "      <td>virginica</td>\n",
       "    </tr>\n",
       "    <tr>\n",
       "      <th>147</th>\n",
       "      <td>5.2</td>\n",
       "      <td>virginica</td>\n",
       "    </tr>\n",
       "    <tr>\n",
       "      <th>148</th>\n",
       "      <td>5.4</td>\n",
       "      <td>virginica</td>\n",
       "    </tr>\n",
       "    <tr>\n",
       "      <th>149</th>\n",
       "      <td>5.1</td>\n",
       "      <td>virginica</td>\n",
       "    </tr>\n",
       "  </tbody>\n",
       "</table>\n",
       "<p>100 rows × 2 columns</p>\n",
       "</div>"
      ],
      "text/plain": [
       "     Petal.Length     Species\n",
       "50            4.7  versicolor\n",
       "51            4.5  versicolor\n",
       "52            4.9  versicolor\n",
       "53            4.0  versicolor\n",
       "54            4.6  versicolor\n",
       "..            ...         ...\n",
       "145           5.2   virginica\n",
       "146           5.0   virginica\n",
       "147           5.2   virginica\n",
       "148           5.4   virginica\n",
       "149           5.1   virginica\n",
       "\n",
       "[100 rows x 2 columns]"
      ]
     },
     "execution_count": 3,
     "metadata": {},
     "output_type": "execute_result"
    }
   ],
   "source": [
    "iris_df = pd.read_csv(\"http://www.stat.wisc.edu/~jgillett/451/data/iris.csv\")\n",
    "df2 = iris_df[iris_df.Species != 'setosa'][['Petal.Length', 'Species']]\n",
    "df2"
   ]
  },
  {
   "cell_type": "code",
   "execution_count": 4,
   "id": "307e805a",
   "metadata": {},
   "outputs": [
    {
     "name": "stdout",
     "output_type": "stream",
     "text": [
      "Iris Logistic Regression model: intercept=[-43.55550129], slope=[8.95564464], training score=0.93\n"
     ]
    },
    {
     "data": {
      "text/plain": [
       "array([[0.2274578, 0.7725422]])"
      ]
     },
     "execution_count": 4,
     "metadata": {},
     "output_type": "execute_result"
    }
   ],
   "source": [
    "x = df2['Petal.Length'].to_numpy()\n",
    "X = x.copy().reshape(-1,1)\n",
    "y = (df2['Species'] == 'virginica').to_numpy().astype(int)\n",
    "model = linear_model.LogisticRegression(C=1000)\n",
    "model.fit(X, y)\n",
    "b = model.intercept_\n",
    "w = model.coef_[0]\n",
    "print(f'Iris Logistic Regression model: intercept={b}, slope={w}, training score={model.score(X, y)}')\n",
    "model.predict_proba([[5]])"
   ]
  },
  {
   "cell_type": "code",
   "execution_count": 5,
   "id": "f6c61ad3",
   "metadata": {},
   "outputs": [
    {
     "data": {
      "image/png": "[encoded data removed]",
      "text/plain": [
       "<Figure size 432x288 with 1 Axes>"
      ]
     },
     "metadata": {
      "needs_background": "light"
     },
     "output_type": "display_data"
    }
   ],
   "source": [
    "# plot data points\n",
    "plt.plot(X, y, '.', color='black', label='data')\n",
    "plt.title('Proportions of iris who are virginica')\n",
    "plt.xlabel('Petal Length')\n",
    "plt.ylabel('proportion')\n",
    "\n",
    "# plot curve\n",
    "low = min(X)\n",
    "high = max(X)\n",
    "xplot = np.linspace(start=low, stop=high)\n",
    "yplot = 1 / (1 + np.exp(-(w * xplot + b)))\n",
    "plt.plot(xplot, yplot, label='logistic curve')\n",
    "\n",
    "# find and plot sample proportions\n",
    "x_values, x_counts = np.unique(X, return_counts=True)\n",
    "n_x_values = x_values.shape[0]\n",
    "success_proportion_per_x_value = np.zeros(n_x_values)\n",
    "for i in np.arange(n_x_values):\n",
    "    success_proportion_per_x_value[i] = np.sum(y[X[:, 0] == x_values[i]]) / x_counts[i]\n",
    "\n",
    "probs = model.predict_proba(X)[:, 0] # column 0 is P(y_i = 1); column 1 is P(y_i = 0)\n",
    "plt.plot(x_values, success_proportion_per_x_value, '.', color='red',\n",
    "         label='sample proportions')\n",
    "\n",
    "plt.legend(loc='center right')\n",
    "plt.show(block=False)"
   ]
  },
  {
   "cell_type": "markdown",
   "id": "bac5562e",
   "metadata": {},
   "source": [
    "## 1b. Do some work with logistic regression by hand.\n",
    "Consider the logistic regression model, $P(y\n",
    "_i = 1) = \\frac{1}{1 + e^{-(\\mathbf{w x} + b)}}\\,.$\n",
    "\n",
    "Logistic regression is named after the log-odds of success, $\\ln\n",
    "  \\frac{p}{1 - p}$, where $p = P(y_i = 1)$. Show that this log-odds\n",
    "  equals $\\mathbf{w x} + b$. (That is, start with $\\ln\n",
    "  \\frac{p}{1 - p}$ and connect it in a series of equalities to $\\mathbf{w x} + b$.)\n",
    "  "
   ]
  },
  {
   "cell_type": "markdown",
   "id": "cbc0b73b",
   "metadata": {},
   "source": [
    "#### ... your Latex math in a Markdown cell here ...\n",
    "\n",
    "$\\begin{align*} % In this Latex context, \"&\" separates columns and \"\\\\\" ends a line.\n",
    "   \\ln \\frac{p}{1 - p} & = \\ln \\frac{\\frac{1}{1 + e^{-(\\mathbf{w x} + b)}}}{1 - \\frac{1}{1 + e^{-(\\mathbf{w x} + b)}}} \\\\\n",
    "    & = \\ln \\frac{\\frac{1}{1 + e^{-(\\mathbf{w x} + b)}}}{\\frac{e^{-(\\mathbf{w x} + b)}}{1 + e^{-(\\mathbf{w x} + b)}}} \\\\\\\\\n",
    "    & = \\ln \\frac{1}{e^{-(\\mathbf{w x} + b)}}\\\\\n",
    "    & = \\ln{e^{\\mathbf({w x} + b)}} \\\\\n",
    "    & = \\mathbf{w x} + b\\\\\n",
    " \\end{align*}\n",
    "$"
   ]
  },
  {
   "cell_type": "markdown",
   "id": "b9e79535",
   "metadata": {},
   "source": [
    "### 1c. Do some more work with logistic regression by hand.\n",
    "\n",
    "I ran some Python/scikit-learn code to make the model pictured here: ![](toyLogistic.png)\n",
    "\n",
    "From the image and without the help of running code, match each code line from the top list with its output from the bottom list.\n",
    "\n",
    "1. `model.intercept_`\n",
    "2. `model.coef_`\n",
    "3. `model.predict(X)`\n",
    "4. `model.predict_proba(X)[:, 1]`\n",
    "\n",
    "A. `array([0, 0, 0, 1])`,\n",
    "B. `array([0.003, 0.5, 0.5, 0.997])`,\n",
    "C. `array([5.832])`,\n",
    "D. `array([0.])`"
   ]
  },
  {
   "cell_type": "markdown",
   "id": "590a1386",
   "metadata": {},
   "source": [
    "My answer: \n",
    "\n",
    "1: D, 2: C, 3: A, 4: B"
   ]
  },
  {
   "cell_type": "markdown",
   "id": "006bb6a9",
   "metadata": {},
   "source": [
    "# 2. Decision tree"
   ]
  },
  {
   "cell_type": "markdown",
   "id": "a82c49b8",
   "metadata": {},
   "source": [
    "## 2a. Make a decision tree model on a Titanic data set.\n",
    "Read the data from [http://www.stat.wisc.edu/~jgillett/451/data/kaggle_titanic_train.csv](http://www.stat.wisc.edu/~jgillett/451/data/kaggle_titanic_train.csv).\n",
    "\n",
    "These data are described at [https://www.kaggle.com/competitions/titanic/data](https://www.kaggle.com/competitions/titanic/data) (click on the small down-arrow to see the \"Data Dictionary\"), which is where they are from.\n",
    "\n",
    "- Retain only the Survived, Pclass, Sex, and Age columns.\n",
    "- Display the  first seven rows (passengers).\n",
    "  Notice that the Age column includes NaN, indicating a missing value.\n",
    "- Drop rows with missing data via `df.dropna()`. Display your data frame's shape before\n",
    "  and after dropping rows. (It should be (714, 4) after dropping rows.)\n",
    "- Add a column called 'Female' that indicates whether a passenger is Female. You can make this column via `df.Sex == 'female'`. This gives bool values True and False, which are interpreted as 1 and 0 when used in an arithmetic context.\n",
    "- Train a decision tree with `max_depth=None` to decided whether a passenger\n",
    "  `Survived` from the other three columns. Report its accuracy (with 3 decimal places)\n",
    "  on training data along with the tree's depth (which is available in `clf.tree_.max_depth`).\n",
    "- Train another tree with `max_depth=2`. Report its accuracy (with 3 decimal places).\n",
    "  Use `tree.plot_tree()` to display it, including feature_names to make the tree easy to read."
   ]
  },
  {
   "cell_type": "code",
   "execution_count": 6,
   "id": "c8c242d6",
   "metadata": {},
   "outputs": [
    {
     "data": {
      "text/html": [
       "<div>\n",
       "<style scoped>\n",
       "    .dataframe tbody tr th:only-of-type {\n",
       "        vertical-align: middle;\n",
       "    }\n",
       "\n",
       "    .dataframe tbody tr th {\n",
       "        vertical-align: top;\n",
       "    }\n",
       "\n",
       "    .dataframe thead th {\n",
       "        text-align: right;\n",
       "    }\n",
       "</style>\n",
       "<table border=\"1\" class=\"dataframe\">\n",
       "  <thead>\n",
       "    <tr style=\"text-align: right;\">\n",
       "      <th></th>\n",
       "      <th>Survived</th>\n",
       "      <th>Pclass</th>\n",
       "      <th>Sex</th>\n",
       "      <th>Age</th>\n",
       "    </tr>\n",
       "  </thead>\n",
       "  <tbody>\n",
       "    <tr>\n",
       "      <th>0</th>\n",
       "      <td>0</td>\n",
       "      <td>3</td>\n",
       "      <td>male</td>\n",
       "      <td>22.0</td>\n",
       "    </tr>\n",
       "    <tr>\n",
       "      <th>1</th>\n",
       "      <td>1</td>\n",
       "      <td>1</td>\n",
       "      <td>female</td>\n",
       "      <td>38.0</td>\n",
       "    </tr>\n",
       "    <tr>\n",
       "      <th>2</th>\n",
       "      <td>1</td>\n",
       "      <td>3</td>\n",
       "      <td>female</td>\n",
       "      <td>26.0</td>\n",
       "    </tr>\n",
       "    <tr>\n",
       "      <th>3</th>\n",
       "      <td>1</td>\n",
       "      <td>1</td>\n",
       "      <td>female</td>\n",
       "      <td>35.0</td>\n",
       "    </tr>\n",
       "    <tr>\n",
       "      <th>4</th>\n",
       "      <td>0</td>\n",
       "      <td>3</td>\n",
       "      <td>male</td>\n",
       "      <td>35.0</td>\n",
       "    </tr>\n",
       "    <tr>\n",
       "      <th>5</th>\n",
       "      <td>0</td>\n",
       "      <td>3</td>\n",
       "      <td>male</td>\n",
       "      <td>NaN</td>\n",
       "    </tr>\n",
       "    <tr>\n",
       "      <th>6</th>\n",
       "      <td>0</td>\n",
       "      <td>1</td>\n",
       "      <td>male</td>\n",
       "      <td>54.0</td>\n",
       "    </tr>\n",
       "  </tbody>\n",
       "</table>\n",
       "</div>"
      ],
      "text/plain": [
       "   Survived  Pclass     Sex   Age\n",
       "0         0       3    male  22.0\n",
       "1         1       1  female  38.0\n",
       "2         1       3  female  26.0\n",
       "3         1       1  female  35.0\n",
       "4         0       3    male  35.0\n",
       "5         0       3    male   NaN\n",
       "6         0       1    male  54.0"
      ]
     },
     "execution_count": 6,
     "metadata": {},
     "output_type": "execute_result"
    }
   ],
   "source": [
    "df2 = pd.read_csv(\"http://www.stat.wisc.edu/~jgillett/451/data/kaggle_titanic_train.csv\")\n",
    "df2\n",
    "titanic_df = df2[['Survived', 'Pclass', 'Sex', 'Age']]\n",
    "titanic_df[:7]"
   ]
  },
  {
   "cell_type": "code",
   "execution_count": 7,
   "id": "90692c69",
   "metadata": {},
   "outputs": [
    {
     "name": "stdout",
     "output_type": "stream",
     "text": [
      "shape before dropping rows with NaN: (891, 4)\n",
      "shape after dropping rows with NaN: (714, 4)\n"
     ]
    }
   ],
   "source": [
    "print(f'shape before dropping rows with NaN: {titanic_df.shape}' )\n",
    "titanic_df = titanic_df.dropna()\n",
    "print(f'shape after dropping rows with NaN: {titanic_df.shape}' )"
   ]
  },
  {
   "cell_type": "code",
   "execution_count": 8,
   "id": "2babecd1",
   "metadata": {},
   "outputs": [
    {
     "data": {
      "text/html": [
       "<div>\n",
       "<style scoped>\n",
       "    .dataframe tbody tr th:only-of-type {\n",
       "        vertical-align: middle;\n",
       "    }\n",
       "\n",
       "    .dataframe tbody tr th {\n",
       "        vertical-align: top;\n",
       "    }\n",
       "\n",
       "    .dataframe thead th {\n",
       "        text-align: right;\n",
       "    }\n",
       "</style>\n",
       "<table border=\"1\" class=\"dataframe\">\n",
       "  <thead>\n",
       "    <tr style=\"text-align: right;\">\n",
       "      <th></th>\n",
       "      <th>Survived</th>\n",
       "      <th>Pclass</th>\n",
       "      <th>Sex</th>\n",
       "      <th>Age</th>\n",
       "      <th>Female</th>\n",
       "    </tr>\n",
       "  </thead>\n",
       "  <tbody>\n",
       "    <tr>\n",
       "      <th>0</th>\n",
       "      <td>0</td>\n",
       "      <td>3</td>\n",
       "      <td>male</td>\n",
       "      <td>22.0</td>\n",
       "      <td>False</td>\n",
       "    </tr>\n",
       "    <tr>\n",
       "      <th>1</th>\n",
       "      <td>1</td>\n",
       "      <td>1</td>\n",
       "      <td>female</td>\n",
       "      <td>38.0</td>\n",
       "      <td>True</td>\n",
       "    </tr>\n",
       "    <tr>\n",
       "      <th>2</th>\n",
       "      <td>1</td>\n",
       "      <td>3</td>\n",
       "      <td>female</td>\n",
       "      <td>26.0</td>\n",
       "      <td>True</td>\n",
       "    </tr>\n",
       "    <tr>\n",
       "      <th>3</th>\n",
       "      <td>1</td>\n",
       "      <td>1</td>\n",
       "      <td>female</td>\n",
       "      <td>35.0</td>\n",
       "      <td>True</td>\n",
       "    </tr>\n",
       "    <tr>\n",
       "      <th>4</th>\n",
       "      <td>0</td>\n",
       "      <td>3</td>\n",
       "      <td>male</td>\n",
       "      <td>35.0</td>\n",
       "      <td>False</td>\n",
       "    </tr>\n",
       "    <tr>\n",
       "      <th>...</th>\n",
       "      <td>...</td>\n",
       "      <td>...</td>\n",
       "      <td>...</td>\n",
       "      <td>...</td>\n",
       "      <td>...</td>\n",
       "    </tr>\n",
       "    <tr>\n",
       "      <th>885</th>\n",
       "      <td>0</td>\n",
       "      <td>3</td>\n",
       "      <td>female</td>\n",
       "      <td>39.0</td>\n",
       "      <td>True</td>\n",
       "    </tr>\n",
       "    <tr>\n",
       "      <th>886</th>\n",
       "      <td>0</td>\n",
       "      <td>2</td>\n",
       "      <td>male</td>\n",
       "      <td>27.0</td>\n",
       "      <td>False</td>\n",
       "    </tr>\n",
       "    <tr>\n",
       "      <th>887</th>\n",
       "      <td>1</td>\n",
       "      <td>1</td>\n",
       "      <td>female</td>\n",
       "      <td>19.0</td>\n",
       "      <td>True</td>\n",
       "    </tr>\n",
       "    <tr>\n",
       "      <th>889</th>\n",
       "      <td>1</td>\n",
       "      <td>1</td>\n",
       "      <td>male</td>\n",
       "      <td>26.0</td>\n",
       "      <td>False</td>\n",
       "    </tr>\n",
       "    <tr>\n",
       "      <th>890</th>\n",
       "      <td>0</td>\n",
       "      <td>3</td>\n",
       "      <td>male</td>\n",
       "      <td>32.0</td>\n",
       "      <td>False</td>\n",
       "    </tr>\n",
       "  </tbody>\n",
       "</table>\n",
       "<p>714 rows × 5 columns</p>\n",
       "</div>"
      ],
      "text/plain": [
       "     Survived  Pclass     Sex   Age  Female\n",
       "0           0       3    male  22.0   False\n",
       "1           1       1  female  38.0    True\n",
       "2           1       3  female  26.0    True\n",
       "3           1       1  female  35.0    True\n",
       "4           0       3    male  35.0   False\n",
       "..        ...     ...     ...   ...     ...\n",
       "885         0       3  female  39.0    True\n",
       "886         0       2    male  27.0   False\n",
       "887         1       1  female  19.0    True\n",
       "889         1       1    male  26.0   False\n",
       "890         0       3    male  32.0   False\n",
       "\n",
       "[714 rows x 5 columns]"
      ]
     },
     "execution_count": 8,
     "metadata": {},
     "output_type": "execute_result"
    }
   ],
   "source": [
    "titanic_df['Female'] = titanic_df.Sex == 'female'\n",
    "titanic_df"
   ]
  },
  {
   "cell_type": "code",
   "execution_count": 9,
   "id": "cedc306d",
   "metadata": {},
   "outputs": [
    {
     "name": "stdout",
     "output_type": "stream",
     "text": [
      "Accuracy on training data is clf.score(X, y)=0.896358543417367.\n"
     ]
    }
   ],
   "source": [
    "from sklearn.tree import DecisionTreeClassifier\n",
    "from sklearn import tree # for tree.plot_tree()\n",
    "from sklearn.tree import export_text # for export_text()\n",
    "\n",
    "# Model 1\n",
    "feature_names = ['Pclass', 'Age','Female']\n",
    "X = titanic_df[feature_names].to_numpy() \n",
    "y = titanic_df['Survived'].to_numpy() \n",
    "clf = DecisionTreeClassifier(criterion='entropy', max_depth=None, random_state=0)\n",
    "clf.fit(X, y)\n",
    "print(f'Accuracy on training data is clf.score(X, y)={clf.score(X, y)}.')"
   ]
  },
  {
   "cell_type": "code",
   "execution_count": 10,
   "id": "9e67619c",
   "metadata": {},
   "outputs": [
    {
     "name": "stdout",
     "output_type": "stream",
     "text": [
      "|--- Female <= 0.50\n",
      "|   |--- Pclass <= 1.50\n",
      "|   |   |--- class: 0\n",
      "|   |--- Pclass >  1.50\n",
      "|   |   |--- class: 0\n",
      "|--- Female >  0.50\n",
      "|   |--- Pclass <= 2.50\n",
      "|   |   |--- class: 1\n",
      "|   |--- Pclass >  2.50\n",
      "|   |   |--- class: 0\n",
      "\n",
      "Accuracy on training data is clf2.score(X, y)=0.7913165266106442.\n"
     ]
    },
    {
     "data": {
      "image/png": "[encoded data removed]",
      "text/plain": [
       "<Figure size 432x288 with 1 Axes>"
      ]
     },
     "metadata": {
      "needs_background": "light"
     },
     "output_type": "display_data"
    }
   ],
   "source": [
    "# Model 2\n",
    "feature_names = ['Pclass', 'Age','Female']\n",
    "X = titanic_df[feature_names].to_numpy() \n",
    "y = titanic_df['Survived'].to_numpy() \n",
    "clf2 = DecisionTreeClassifier(criterion='entropy', max_depth=2, random_state=0)\n",
    "clf2.fit(X, y)\n",
    "tree.plot_tree(clf2, feature_names=feature_names)\n",
    "print(export_text(clf2, feature_names=feature_names))\n",
    "print(f'Accuracy on training data is clf2.score(X, y)={clf2.score(X, y)}.')"
   ]
  },
  {
   "cell_type": "markdown",
   "id": "92388657",
   "metadata": {},
   "source": [
    "## 2b. Which features are used in the (max_depth=2) decision-making? Answer in a markdown cell."
   ]
  },
  {
   "cell_type": "markdown",
   "id": "9d7eaee4",
   "metadata": {},
   "source": [
    "Female & Pclass"
   ]
  },
  {
   "cell_type": "markdown",
   "id": "aa128a8c",
   "metadata": {},
   "source": [
    " ## 2c. What proportion of females survived? What proportion of males survived?\n",
    " Answer in two sentences via print(), with each proportion rounded to three decimal places.\n",
    " \n",
    " Hint: There are many ways to do this. One quick way is to find the average of the `Female`\n",
    " column for each subset."
   ]
  },
  {
   "cell_type": "code",
   "execution_count": 11,
   "id": "700852b6",
   "metadata": {},
   "outputs": [
    {
     "name": "stdout",
     "output_type": "stream",
     "text": [
      "The proportion of females survived is 0.755\n",
      "The proportion of males survived is 0.205\n"
     ]
    }
   ],
   "source": [
    "females = titanic_df[titanic_df['Female']== True]\n",
    "males = titanic_df[titanic_df['Female']== False]\n",
    "female_survived = float(females[['Survived']].mean())\n",
    "male_survived = float(males[['Survived']].mean())\n",
    "print(f'The proportion of females survived is {round(female_survived,3)}')\n",
    "print(f'The proportion of males survived is {round(male_survived,3)}')"
   ]
  },
  {
   "cell_type": "markdown",
   "id": "8fee52c3",
   "metadata": {},
   "source": [
    "## 2d. Do some decision tree calculations by hand.\n",
    "Consider a decision tree node containing the following set of examples $S =\n",
    "\\{(\\mathbf{x}, y)\\}$ where $\\mathbf{x} = (x_1, x_2)$:\n",
    "\n",
    "((4, 9), 1)\n",
    "\n",
    "((2, 6), 0)\n",
    "\n",
    "((5, 7), 0)\n",
    "\n",
    "((3, 8), 1)\n",
    "\n",
    "Find the entropy of $S$."
   ]
  },
  {
   "cell_type": "markdown",
   "id": "68412951",
   "metadata": {},
   "source": [
    "1"
   ]
  },
  {
   "cell_type": "markdown",
   "id": "62982e16",
   "metadata": {},
   "source": [
    " ## 2e. Do some more decision tree calculations by hand.\n",
    "Find a (feature, threshold) pair that yields the best split for this node."
   ]
  },
  {
   "cell_type": "markdown",
   "id": "f39050b2",
   "metadata": {},
   "source": [
    "((2,6),0)"
   ]
  }
 ],
 "metadata": {
  "celltoolbar": "Tags",
  "kernelspec": {
   "display_name": "Python 3 (ipykernel)",
   "language": "python",
   "name": "python3"
  },
  "language_info": {
   "codemirror_mode": {
    "name": "ipython",
    "version": 3
   },
   "file_extension": ".py",
   "mimetype": "text/x-python",
   "name": "python",
   "nbconvert_exporter": "python",
   "pygments_lexer": "ipython3",
   "version": "3.9.12"
  }
 },
 "nbformat": 4,
 "nbformat_minor": 5
}
